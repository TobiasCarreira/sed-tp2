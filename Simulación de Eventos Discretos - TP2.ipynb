{
 "cells": [
  {
   "cell_type": "markdown",
   "id": "70aade23-1824-4001-91e1-1045025aa29c",
   "metadata": {},
   "source": [
    "## Juego del Prisionero con retraso en la difusión de la información"
   ]
  },
  {
   "cell_type": "markdown",
   "id": "9b09aed4-d4bb-458f-96c6-9c0527096f4e",
   "metadata": {},
   "source": [
    "En este trabajo práctico vamos a analizar una variante del [Dilema del Prisionero](https://es.wikipedia.org/wiki/Dilema_del_prisionero).\n",
    "\n",
    "[Existen múltiples modificaciones al juego](http://systems-sciences.uni-graz.at/etextbook/gametheory/prisonersdilemma.html). Una de las ramas estudiadas es la del juego iterativo: se juegan sucesivas veces, y en cada partida los agentes tienen cierta memoria de lo que hizo el otro en el pasado. Existen también estudios hechos con múltiples agentes, varias estrategias en el tiempo y distintas topologías (quién juega contra quién).\n",
    "\n",
    "En nuestra variante la grilla representa una prisión y los prisioneros se mueven de forma aleatoria por ella, y al encontrarse con otro prisionero deciden o no traicionarlo.\n",
    "Al ocurrir una traición, se aumenta la condena del traicionado en una cierta cantidad de tiempo, pero la víctima se enterará de que fue traicionado un determinado tiempo después.\n",
    "\n",
    "La mejor solución es Quid-Pro-Quo, ya que fue estudiado que ésta reduce la dispersión de los tiempos de condena, pero esta se basa en la inmediatez con la que un prisionero conoce que otro lo delató o traicionó. En una situación de esparcimiento de información falsa o no comprobable (como esta)\n",
    "con objetivos de manipulación, para conseguir una reducción de la condena un alcaide es informado de que alguien traiciona a alguien y éste decide que hace con la información. Esto es lo que deseamos modelar."
   ]
  },
  {
   "cell_type": "markdown",
   "id": "d5091e44-e140-489d-a41b-c9c9b08138ca",
   "metadata": {},
   "source": [
    "### Modelo conceptual"
   ]
  },
  {
   "cell_type": "markdown",
   "id": "59392a30-ffcc-4aed-8038-15623d927e30",
   "metadata": {},
   "source": [
    "En general nuestro modelo se explica por:\n",
    "\n",
    "- un tamaño de la grilla\n",
    "- una cantidad de prisioneros inicial (`N`) con sus respectivas condenas iniciales\n",
    "- encuentros entre prisioneros que con probabilidad `1/p` desata una traición informada al oponente con retraso `m,..,M` iteraciones (equiprobable)\n",
    "- encuentros entre prisioneros que ya saben que fueron buchoneados por su oponente en algún instante anterior y entonces siempre traicionan (Quid-Pro-Quo) con retraso de información de `m,..,M` iteraciones (equiprobable)\n",
    "- el paso del tiempo\n",
    "- cuánto tiempo se agrega a la condena cuando se es traicionado (`c`)\n",
    "\n",
    "Si bien sobre esta variante introdujimos algunas particularidades:\n",
    "\n",
    "- si un prisionero todavía no sabe que fue buchoneado por otro que se vuelve a encontrar, entonces la condena se aumenta pero se toma el mínimo retraso de información, entre la nueva traición y la anterior\n",
    "- las condenas nunca se reducen\n",
    "- no se distingue entre traición-traición y traición-no traición (a diferencia del Dilema original cuya condena agregada es menor en el primer caso)\n",
    "- si la condena es 0, el prisionero inmediatamente sale de la prisión\n",
    "\n",
    "Con el objetivo de entender el modelo, experimentaremos con distintos valores de los parámetros:\n",
    "- `c`: agregado leve (1 turno), moderado (10 turnos), grave (50 turnos)\n",
    "- `p`: probabilidad baja (0.2), media (0.5), alta (0.8)\n",
    "- `m` y `M`: retraso rápido (0 a 5 turnos), variado (0 a 10 turnos), medio (5 a 10 turnos), largo (10 a 20 turnos)\n",
    "\n",
    "Los prisioneros inician con una condena aleatoria (distribución normal, con media 50 turnos y desvio estándar 10 turnos), en posiciones iniciales seleccionadas de forma aleatoria. Para cara experimento, corremos 15 repeticiones con condenas y posiciones distintas.\n",
    "\n",
    "El movimiento se realiza de forma aleatoria: en cada turno, un prisionero se mueve a la posición a la que está mirando (si puede). Al moverse, elige una nueva dirección a la que mirar, en la vecindad de von Neumann. Para evitar colisiones (dos prisioneros moviéndose a la misma celda), el autómata celular utiliza una vecindad de von Neumann extendida.\n",
    "\n",
    "Definimos un conflicto cuando dos prisioneros se encuentran en celdas vecinas (en la vecindad de von Neumann) y ambos se miran respectivamente. Cada vez que sucede esto, ambos prisioneros pueden ser buchoneados por el otro, siguiendo las reglas nombradas anteriormente (y formalizadas en la próxima sección)."
   ]
  },
  {
   "cell_type": "markdown",
   "id": "882a28de-3c72-4626-8426-ce1b0e778f98",
   "metadata": {},
   "source": [
    "### Reglas Cell-DEVS"
   ]
  },
  {
   "cell_type": "markdown",
   "id": "5d60e52c-09cc-4449-a5c6-a6e306cdd85d",
   "metadata": {},
   "source": [
    "Para esto usamos CD++ y un archivo ``.ma`` generado de forma dinámica, pero cuyas bases son las reglas de:\n",
    "\n",
    "- _Movimiento_: mueven a un prisionero en la dirección a la que está mirando si el casillero está libre, además hacen que pase el tiempo.\n",
    "- _Eliminación_: remueven a un prisionero que se movió de lugar del casillero anterior.\n",
    "- _Buchoneo_: determinan si mi oponente me buchonea y cuanto tiempo pasa hasta que me entere. Se usa 0 como código de que fuí traicionado, -1 para no haber sido traicionado y n > 0 como la cantidad de iteraciones que faltan para saber que me traicionaron.\n",
    "\n",
    "Se codifica una tupla en la que:\n",
    "- Lugar 0-ésimo: identificador del prisionero\n",
    "- Lugar 1-ésimo: dirección (de mirada)\n",
    "- Lugar 2-ésimo: duración de la condena\n",
    "- Lugar i+3-ésimo: 0 si el prisionero i me traicionó y lo sé, n > 0 si faltan n iteraciones para saber que el prisionero i me traicinó y -1 si nunca fue traicionado por éste.\n",
    "\n",
    "NOTA: las reglas y sus condiciones se encuentras comentadas para mayor claridad."
   ]
  },
  {
   "cell_type": "code",
   "execution_count": 1,
   "id": "3cc17887-c921-4c16-be87-5a2964c4818d",
   "metadata": {},
   "outputs": [
    {
     "name": "stdout",
     "output_type": "stream",
     "text": [
      "% Si termina la condena, desaparece\n",
      "rule : 0 100 {(0,0)!2<=100}\n",
      "\n",
      "% Reglas de movimiento si no hay enfrentamiento\n",
      "\n",
      "% Reglas de moverme\n",
      "rule : {\n",
      "    [\n",
      "        (0,-1)!0,\n",
      "        randInt(3) + 1,\n",
      "        (0,-1)!2 - 100,\n",
      "{% for pr in prisioners %}\n",
      "        if((0,-1)!{{ loop.index0 + 3 }} > 0, (0,-1)!{{ loop.index0 + 3 }} - 1 , (0,-1)!{{ loop.index0 + 3 }}){% if not  loop.last %},{% endif %}\n",
      "{% endfor %}\n",
      "    ]\n",
      "} 100 {(0,0)=0 and (0,-1)!1=1 and (0,-1)!2>100}\n",
      "\n",
      "rule : {\n",
      "    [\n",
      "        (-1,0)!0,\n",
      "        randInt(3) + 1,\n",
      "        (-1,0)!2 - 100,\n",
      "{% for pr in prisioners %}\n",
      "        if((-1,0)!{{ loop.index0 + 3 }} > 0, (-1,0)!{{ loop.index0 + 3 }} - 1 , (-1,0)!{{ loop.index0 + 3 }}){% if not loop.last %},{% endif %}\n",
      "{% endfor %}\n",
      "    ]\n",
      "} 100 {(0,0)=0 and (-1,0)!1=2 and (-1,0)!2>100}\n",
      "\n",
      "rule : {\n",
      "    [\n",
      "        (0,1)!0,\n",
      "        randInt(3) + 1,\n",
      "        (0, 1)!2 - 100,\n",
      "{% for pr in prisioners %}\n",
      "        if((0,1)!{{ loop.index0 + 3 }} > 0, (0,1)!{{ loop.index0 + 3 }} - 1 , (0,1)!{{ loop.index0 + 3 }}){% if not loop.last %},{% endif %}\n",
      "{% endfor %}\n",
      "    ]\n",
      "} 100 {(0,0)=0 and (0,1)!1=3 and (0,1)!2>100}\n",
      "\n",
      "rule : {\n",
      "    [\n",
      "        (1,0)!0,\n",
      "        randInt(3) + 1,\n",
      "        (1, 0)!2 - 100,\n",
      "{% for pr in prisioners %}\n",
      "        if((1,0)!{{ loop.index0 + 3 }} > 0, (1,0)!{{ loop.index0 + 3 }} - 1 , (1,0)!{{ loop.index0 + 3 }}){% if not loop.last %},{% endif %}\n",
      "{% endfor %}\n",
      "    ]\n",
      "} 100 {(0,0)=0 and (1,0)!1=4 and (1,0)!2>100}\n",
      "\n",
      "% Reglas de eliminarme de la posicion anterior\n",
      "rule : 0 100 {(0,0)!1=1 and (0,1)=0}\n",
      "rule : 0 100 {(0,0)!1=2 and (1,0)=0 and (1,-1)!1!=1}\n",
      "rule : 0 100 {(0,0)!1=3 and (0,-1)=0 and (0,-2)!1!=1 and (-1,-1)!1!=2}\n",
      "rule : 0 100 {(0,0)!1=4 and (-1,0)=0 and (-1,-1)!1!=1 and (-2,0)!1!=2 and (-1,1)!1!=3}\n"
     ]
    }
   ],
   "source": [
    "%%bash\n",
    "\n",
    "tail -n +20 model/prisioneros.ma.j2 | head -n 55"
   ]
  },
  {
   "cell_type": "code",
   "execution_count": 2,
   "id": "39277c5f-d9d0-45ea-bcb0-e94fec5d7c58",
   "metadata": {},
   "outputs": [
    {
     "name": "stdout",
     "output_type": "stream",
     "text": [
      "% regla buchoneo (0,1)\n",
      "rule : {\n",
      "    [\n",
      "        (0,0)!0,\n",
      "        randInt(3) + 1, % elijo nueva direccion\n",
      "        (0,0)!2 + {{ added_sentence }}, % te buchonearon\n",
      "{% for pr in prisioners %}\n",
      "        if(\n",
      "            (0,1)!0 = {{ loop.index }}, % es el oponente {{ loop.index }}\n",
      "            if((0,0)!{{ loop.index0 + 3 }} = -1, randInt({{ max_delay - min_delay }}) + {{ min_delay }}, min((0,0)!{{ loop.index0 + 3 }}, randInt({{ max_delay - min_delay }}) + {{ min_delay }})), % si ya me buchoneo (lo sepa o no)\n",
      "            if((0,0)!{{ loop.index0 + 3 }} > 0, (0,0)!{{ loop.index0 + 3 }} - 1 , (0,0)!{{ loop.index0 + 3 }}) % pasa el tiempo\n",
      "        ){% if not loop.last %},{% endif %}\n",
      "{% endfor %}\n",
      "    ]\n",
      "} 100 {\n",
      "    (0,0)!1=1 and (0,1)!1=3 % me estoy mirando\n",
      "    and\n",
      "    (\n",
      "{% for pr in prisioners %}\n",
      "        (\n",
      "            (0,0)!0 = {{ loop.index }} % soy el {{ loop.index }}\n",
      "            and\n",
      "            (0,1)!{{ loop.index0 + 3 }} = 0 % obligatoriamente me buchonea porque ya se entero de que lo buchonee\n",
      "        )\n",
      "    {% if not loop.last %}or{% endif %}\n",
      "{% endfor %}\n",
      "        or\n",
      "        {{ betrayal_proba }} % siempre me puede buchonear\n",
      "    )\n",
      "}\n"
     ]
    }
   ],
   "source": [
    "%%bash\n",
    "\n",
    "# Mostramos la regla de buchoneo solamente para uno de los 4 casos.\n",
    "# los otros casos son similares\n",
    "\n",
    "tail -n +80 model/prisioneros.ma.j2 | head -n 30"
   ]
  },
  {
   "cell_type": "code",
   "execution_count": 3,
   "id": "24ecd986-f35d-43f6-946b-dde8198840be",
   "metadata": {},
   "outputs": [
    {
     "name": "stdout",
     "output_type": "stream",
     "text": [
      "% regla de NO buchoneo\n",
      "rule : {\n",
      "    [\n",
      "        (0,0)!0,\n",
      "        randInt(3) + 1, % elijo nueva direccion\n",
      "        (0,0)!2 - 100, % no te buchonearon\n",
      "{% for pr in prisioners %}\n",
      "        if((0,0)!{{ loop.index0 + 3 }} > 0, (0,0)!{{ loop.index0 + 3 }} - 1 , (0,0)!{{ loop.index0 + 3 }}){% if not loop.last %},{% endif %}\n",
      "{% endfor %}\n",
      "    ]\n",
      "} 100 {\n",
      "    (\n",
      "        (0,0)!1=1 and (0,1)!1=3 % me estoy mirando - regla (0,1)\n",
      "    )\n",
      "    or\n",
      "    (\n",
      "        (0,0)!1=3 and (0,-1)!1=1 % me estoy mirando - regla (0,-1)\n",
      "    )\n",
      "    or\n",
      "    (\n",
      "        (0,0)!1=2 and (1,0)!1=4 % me estoy mirando - regla (1,0)\n",
      "    )\n",
      "    or\n",
      "    (\n",
      "        (0,0)!1=4 and (-1,0)!1=2 % me estoy mirando - regla (-1,0)\n",
      "    )\n",
      "    % si esta regla va despues de las reglas de buchoneo\n",
      "    % si llegue aca (por el orden de las reglas), no me buchonearon\n",
      "}\n",
      "\n"
     ]
    }
   ],
   "source": [
    "%%bash\n",
    "\n",
    "tail -n +204 model/prisioneros.ma.j2 | head -n 30"
   ]
  },
  {
   "cell_type": "code",
   "execution_count": 4,
   "id": "7adff581-6d74-42a7-b84c-7e8e03ecb638",
   "metadata": {},
   "outputs": [
    {
     "name": "stdout",
     "output_type": "stream",
     "text": [
      "% regla default es que pasa el tiempo pero no se mueve\n",
      "rule : 0 100 { (0,0) = 0 }\n",
      "rule : {\n",
      "    [\n",
      "        (0,0)!0,\n",
      "        (0,0)!1,\n",
      "        (0,0)!2 - 100,\n",
      "{% for pr in prisioners %}\n",
      "        if((0,0)!{{ loop.index0 + 3 }} > 0, (0,0)!{{ loop.index0 + 3 }} - 1 , (0,0)!{{ loop.index0 + 3 }}){% if not loop.last %},{% endif %}\n",
      "{% endfor %}\n",
      "    ]\n",
      "} 100 { t }\n"
     ]
    }
   ],
   "source": [
    "%%bash\n",
    "\n",
    "tail -n +234 model/prisioneros.ma.j2"
   ]
  },
  {
   "cell_type": "markdown",
   "id": "8596a5ff-141d-48e8-a823-769f8609f4e2",
   "metadata": {},
   "source": [
    "### Experimentos"
   ]
  },
  {
   "cell_type": "code",
   "execution_count": 5,
   "id": "b545b192-4177-43bd-8c44-84ebfcd03b13",
   "metadata": {},
   "outputs": [],
   "source": [
    "from log_loader import load_log\n",
    "from plots import agents_count_stats, plot_uncertainty, total_life_times, plot_histogram\n",
    "from plots import search_experiment_results, get_conflicts, proba_text, log_index, indices\n",
    "# log_index es un diccionario de id de experimento a (c, (m, M), p)\n",
    "from model.experiment_utils import sentences, delays, betrayal_probas"
   ]
  },
  {
   "cell_type": "code",
   "execution_count": 6,
   "id": "c1d5161e-06c1-451c-b7d5-f0b775d15705",
   "metadata": {},
   "outputs": [
    {
     "data": {
      "image/png": "[encoded data removed]",
      "text/plain": [
       "<Figure size 1152x648 with 1 Axes>"
      ]
     },
     "metadata": {
      "needs_background": "light"
     },
     "output_type": "display_data"
    }
   ],
   "source": [
    "log_dfs = search_experiment_results(100, (0, 5), proba_text(20))\n",
    "stats = agents_count_stats(log_dfs)\n",
    "plot_uncertainty(stats, 'Experimento 100 de condena agregada, 0 a 5 turnos para avisar buchoneo, 20% probabilidad de buchoneo')"
   ]
  },
  {
   "cell_type": "code",
   "execution_count": 7,
   "id": "bd35bba6-f5f0-4f9f-b883-a616a1268eb9",
   "metadata": {},
   "outputs": [
    {
     "data": {
      "image/png": "[encoded data removed]",
      "text/plain": [
       "<Figure size 1152x648 with 1 Axes>"
      ]
     },
     "metadata": {
      "needs_background": "light"
     },
     "output_type": "display_data"
    }
   ],
   "source": [
    "# La sumatoria concatena listas\n",
    "life_times = sum([total_life_times(log_df) for log_df in log_dfs], [])\n",
    "\n",
    "# Histograma del tiempo de condena total de los agentes con distintas corridas aleatorizadas\n",
    "plot_histogram(life_times, 'Tiempo de condena total')"
   ]
  },
  {
   "cell_type": "markdown",
   "id": "bddb2ae8-3863-4cf7-9673-f73964be067a",
   "metadata": {},
   "source": [
    "### Tareas\n",
    "\n",
    "#### TOBI\n",
    "\n",
    "- [ ] Grafico y correlacion entre variables y buchoneos (regresion lineal)\n",
    "- [X] Buchoneos por configuracion (heatmap de a dos variables)\n",
    "- [ ] Corrleacion entre veces que buchoneaste y veces que fuiste buchoneado (recta)\n",
    "\n",
    "##### VALEN\n",
    "\n",
    "- [ ] Buchoneos en funcion del tiempo (comparar barplots)\n",
    "- [ ] Comparar buchoneos segun retardo alto con retardo bajo segun el tiempo (en forma de rectas)\n",
    "- [ ] Para ver si hay distintos momentos (pocos buchonean vs todos buchonean xq saben que fueron delatados) segun el retardo"
   ]
  },
  {
   "cell_type": "markdown",
   "id": "bb97dbae-7439-4a5a-8af2-7dc3aa15b935",
   "metadata": {},
   "source": [
    "#### Cantidad de buchoneos en función del resto de variables\n",
    "\n",
    "Veremos como varías la cantidad de traiciones entre agentes dependiendo de las variables experimentales. A priori, lo que esperamos es:\n",
    "\n",
    "- Que a mayor condena agregada por buchoneo, mayor sea la condena total de los agentes, por lo que tendrán más tiempo para buchonear a otros.\n",
    "- A mayor tiempo de retraso, menor cantidad de buchoneos, ya que los agentes seguirán las dinámica aleatoria de buchoneos por más tiempo\n",
    "- A mayor probabilidad, habrá obviamente más buchoneos, aunque nos parece interesante ver cuánto cambia\n",
    "\n",
    "Realizaremos mapas de color por cada par de variables experimentales, para ver si emergen sinergias entre las variables."
   ]
  },
  {
   "cell_type": "code",
   "execution_count": null,
   "id": "da225a48-3608-407e-a447-655346a285ee",
   "metadata": {},
   "outputs": [],
   "source": [
    "!make conflicts.csv"
   ]
  },
  {
   "cell_type": "code",
   "execution_count": 8,
   "id": "8138e5fb-7f55-4fb3-929f-4f816008111b",
   "metadata": {},
   "outputs": [
    {
     "data": {
      "text/html": [
       "<div>\n",
       "<style scoped>\n",
       "    .dataframe tbody tr th:only-of-type {\n",
       "        vertical-align: middle;\n",
       "    }\n",
       "\n",
       "    .dataframe tbody tr th {\n",
       "        vertical-align: top;\n",
       "    }\n",
       "\n",
       "    .dataframe thead th {\n",
       "        text-align: right;\n",
       "    }\n",
       "</style>\n",
       "<table border=\"1\" class=\"dataframe\">\n",
       "  <thead>\n",
       "    <tr style=\"text-align: right;\">\n",
       "      <th></th>\n",
       "      <th>num</th>\n",
       "      <th>c</th>\n",
       "      <th>d</th>\n",
       "      <th>p</th>\n",
       "    </tr>\n",
       "  </thead>\n",
       "  <tbody>\n",
       "    <tr>\n",
       "      <th>0</th>\n",
       "      <td>6</td>\n",
       "      <td>100</td>\n",
       "      <td>(0, 5)</td>\n",
       "      <td>randInt(4) = 0</td>\n",
       "    </tr>\n",
       "    <tr>\n",
       "      <th>1</th>\n",
       "      <td>21</td>\n",
       "      <td>100</td>\n",
       "      <td>(0, 5)</td>\n",
       "      <td>randInt(4) = 0</td>\n",
       "    </tr>\n",
       "    <tr>\n",
       "      <th>2</th>\n",
       "      <td>59</td>\n",
       "      <td>100</td>\n",
       "      <td>(0, 5)</td>\n",
       "      <td>randInt(4) = 0</td>\n",
       "    </tr>\n",
       "    <tr>\n",
       "      <th>3</th>\n",
       "      <td>7</td>\n",
       "      <td>100</td>\n",
       "      <td>(0, 5)</td>\n",
       "      <td>randInt(4) = 0</td>\n",
       "    </tr>\n",
       "    <tr>\n",
       "      <th>4</th>\n",
       "      <td>45</td>\n",
       "      <td>100</td>\n",
       "      <td>(0, 5)</td>\n",
       "      <td>randInt(4) = 0</td>\n",
       "    </tr>\n",
       "    <tr>\n",
       "      <th>...</th>\n",
       "      <td>...</td>\n",
       "      <td>...</td>\n",
       "      <td>...</td>\n",
       "      <td>...</td>\n",
       "    </tr>\n",
       "    <tr>\n",
       "      <th>535</th>\n",
       "      <td>6</td>\n",
       "      <td>5000</td>\n",
       "      <td>(10, 20)</td>\n",
       "      <td>randInt(4) != 0</td>\n",
       "    </tr>\n",
       "    <tr>\n",
       "      <th>536</th>\n",
       "      <td>8</td>\n",
       "      <td>5000</td>\n",
       "      <td>(10, 20)</td>\n",
       "      <td>randInt(4) != 0</td>\n",
       "    </tr>\n",
       "    <tr>\n",
       "      <th>537</th>\n",
       "      <td>7</td>\n",
       "      <td>5000</td>\n",
       "      <td>(10, 20)</td>\n",
       "      <td>randInt(4) != 0</td>\n",
       "    </tr>\n",
       "    <tr>\n",
       "      <th>538</th>\n",
       "      <td>11</td>\n",
       "      <td>5000</td>\n",
       "      <td>(10, 20)</td>\n",
       "      <td>randInt(4) != 0</td>\n",
       "    </tr>\n",
       "    <tr>\n",
       "      <th>539</th>\n",
       "      <td>10</td>\n",
       "      <td>5000</td>\n",
       "      <td>(10, 20)</td>\n",
       "      <td>randInt(4) != 0</td>\n",
       "    </tr>\n",
       "  </tbody>\n",
       "</table>\n",
       "<p>540 rows × 4 columns</p>\n",
       "</div>"
      ],
      "text/plain": [
       "     num     c         d                p\n",
       "0      6   100    (0, 5)   randInt(4) = 0\n",
       "1     21   100    (0, 5)   randInt(4) = 0\n",
       "2     59   100    (0, 5)   randInt(4) = 0\n",
       "3      7   100    (0, 5)   randInt(4) = 0\n",
       "4     45   100    (0, 5)   randInt(4) = 0\n",
       "..   ...   ...       ...              ...\n",
       "535    6  5000  (10, 20)  randInt(4) != 0\n",
       "536    8  5000  (10, 20)  randInt(4) != 0\n",
       "537    7  5000  (10, 20)  randInt(4) != 0\n",
       "538   11  5000  (10, 20)  randInt(4) != 0\n",
       "539   10  5000  (10, 20)  randInt(4) != 0\n",
       "\n",
       "[540 rows x 4 columns]"
      ]
     },
     "execution_count": 8,
     "metadata": {},
     "output_type": "execute_result"
    }
   ],
   "source": [
    "import pandas as pd\n",
    "\n",
    "def parse_tuple(value):\n",
    "    return tuple(int(float(num)) for num in value.replace('(', '').replace(')', '').split(', '))\n",
    "\n",
    "num_conflicts = pd.read_csv('conflicts.csv', converters={'d': parse_tuple})\n",
    "num_conflicts"
   ]
  },
  {
   "cell_type": "code",
   "execution_count": 9,
   "id": "a34276db-84d4-4de1-bc74-696f52098474",
   "metadata": {},
   "outputs": [],
   "source": [
    "import matplotlib.pyplot as plt\n",
    "import numpy as np\n",
    "\n",
    "def plot_heatmap(rows, cols, grouped_dataframe):\n",
    "    plt.figure()\n",
    "    plt.imshow([[grouped_dataframe[r,c] for c in cols] for r in rows])\n",
    "    plt.xticks(np.arange(len(cols)), labels=cols)\n",
    "    plt.yticks(np.arange(len(rows)), labels=rows)\n",
    "    # Loop over data dimensions and create text annotations.\n",
    "    for i, r in enumerate(rows):\n",
    "        for j, c in enumerate(cols):\n",
    "            plt.text(j, i, grouped_dataframe[r, c], ha=\"center\", va=\"center\", color=\"w\")\n",
    "    plt.show()"
   ]
  },
  {
   "cell_type": "code",
   "execution_count": 10,
   "id": "d03a0898-1e34-4f8b-8187-66d57ad7f859",
   "metadata": {},
   "outputs": [
    {
     "data": {
      "image/png": "[encoded data removed]",
      "text/plain": [
       "<Figure size 432x288 with 1 Axes>"
      ]
     },
     "metadata": {
      "needs_background": "light"
     },
     "output_type": "display_data"
    }
   ],
   "source": [
    "plot_heatmap(sentences, delays, num_conflicts.groupby(['c','d'])['num'].sum())"
   ]
  },
  {
   "cell_type": "code",
   "execution_count": 11,
   "id": "a6e7da57-ff6a-43eb-9ea5-63c5b945c1b1",
   "metadata": {},
   "outputs": [
    {
     "data": {
      "image/png": "[encoded data removed]",
      "text/plain": [
       "<Figure size 432x288 with 1 Axes>"
      ]
     },
     "metadata": {
      "needs_background": "light"
     },
     "output_type": "display_data"
    }
   ],
   "source": [
    "plot_heatmap(sentences, betrayal_probas, num_conflicts.groupby(['c','p'])['num'].sum())"
   ]
  },
  {
   "cell_type": "code",
   "execution_count": 12,
   "id": "40546765-3364-4440-8c04-d7bdbb5cea81",
   "metadata": {},
   "outputs": [
    {
     "data": {
      "image/png": "[encoded data removed]",
      "text/plain": [
       "<Figure size 432x288 with 1 Axes>"
      ]
     },
     "metadata": {
      "needs_background": "light"
     },
     "output_type": "display_data"
    }
   ],
   "source": [
    "plot_heatmap(betrayal_probas, delays, num_conflicts.groupby(['p','d'])['num'].sum())"
   ]
  },
  {
   "cell_type": "code",
   "execution_count": null,
   "id": "7b49c1bb-a5bd-4481-84ba-f8f81758f7ed",
   "metadata": {},
   "outputs": [],
   "source": [
    "!make conflicts_compare.csv"
   ]
  },
  {
   "cell_type": "code",
   "execution_count": null,
   "id": "b96a4f89-b182-4307-b255-93354b2d8f50",
   "metadata": {},
   "outputs": [],
   "source": []
  }
 ],
 "metadata": {
  "kernelspec": {
   "display_name": "Python 3 (ipykernel)",
   "language": "python",
   "name": "python3"
  },
  "language_info": {
   "codemirror_mode": {
    "name": "ipython",
    "version": 3
   },
   "file_extension": ".py",
   "mimetype": "text/x-python",
   "name": "python",
   "nbconvert_exporter": "python",
   "pygments_lexer": "ipython3",
   "version": "3.9.7"
  }
 },
 "nbformat": 4,
 "nbformat_minor": 5
}
